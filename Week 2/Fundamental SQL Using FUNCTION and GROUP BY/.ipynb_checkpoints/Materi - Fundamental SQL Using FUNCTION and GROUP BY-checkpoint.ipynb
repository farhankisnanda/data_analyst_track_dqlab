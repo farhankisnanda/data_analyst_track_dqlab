{
 "cells": [
  {
   "cell_type": "markdown",
   "id": "0f7df0a3",
   "metadata": {},
   "source": [
    "# Chapter 1: Fungsi di SQL\n",
    "\n",
    "## Fungsi Scalar vs Fungsi Aggregate\n",
    "\n",
    "Fungsi adalah metode yang digunakan untuk melakukan operasi data di database. Operasi ini bisa berupa kalkulasi numerik seperti sum, count, avg, etc; atau operasi non-numerik seperti string concatenations dan sub-strings. SQL Function dapat dibagi ke dalam 2 kategori, yaitufungsi scalar dan fungsi aggregate. Fungsi skalar dalam SQL digunakan untuk mengembalikan nilai tunggal (single value) dari suatu nilai input yang diberikan, sedangkan fungsi agregat dalam SQL digunakan untuk melakukan perhitungan pada sekelompok nilai dan kemudian mengembalikan nilai tunggal.\n",
    "\n",
    "## Fungsi Skalar Matematika\n",
    "\n",
    "1. abs(), mengembalikan nilai absolute dari nilai input.\n",
    "2. ceiling(), mengembalikan nilai integer terbesar yang terdekat dengan nilai input.\n",
    "3. floor(), mengembalikan nilai integer terkecil yang terdekat dengan input.\n",
    "4. round(), mengembalikan nilai pembulatan dari nilai input.\n",
    "5. sqrt(), mengembalikan nilai akar kuadrat dari nilai input.\n",
    "6. mod(), mengembalikan nilai sisa hasil pembagian dari nilai iput.\n",
    "7. exp(), mengembalikan nilai eksponensial dari nilai input.\n",
    "\n",
    "# Chapter 2: Fungsi Text di SQL\n",
    "\n",
    "## Fungsi Text\n",
    "\n",
    "1. concat(), menggabungkan semua argumen/input, NULL value akan diabaikan.\n",
    "2. spill_part(), membagi string/text berdasarkan delimiter/pemisah yang ditentukan, kemudian mengembaliakn value berdasarkan posisi string yang diinginkan (hitungan posisi mulai dari 1).\n",
    "3. substr(), mengekstrak karakter/string yang diinginkan.\n",
    "4. length(), menghitung jumlah karakter dalam string/text.\n",
    "5. replace(), mengganti karakter dalam suatu string/text.\n",
    "6. trim(), menghapus karakter dalam suatu string. \n",
    "7. upper(), mengubah huruf kecil ke huruf besar.\n",
    "8. lower(), mengubah huruf besar ke huruf kecil.\n",
    "\n",
    "# Chapter 3: Fungsi Aggregate dan Group By\n",
    "\n",
    "## Fungsi Aggregate\n",
    "\n",
    "1. SUM(), digunakan untuk menjumlahkan sekelompok nilai (baris) dalam satu kolom.\n",
    "2. COUNT(), digunakan untuk menghitung jumlah baris.\n",
    "3. AVG(), digunakan untuk menghitung nilai rata-rata dari suatu kolom.\n",
    "4. MIN(), digunakan untuk menghitung nilai minimum dari suatu kolom.\n",
    "5. MAX(), digunakan untuk menghitung nilai maksimum dari suatu kolom.\n",
    "6. FIRST(), mengembalikan nilai pada baris pertama dari suatu kolom.\n",
    "7. LAST(), mengembalikan nilai pada baris terakhir dari suatu kolom.\n",
    "\n",
    "## Pengenalan GROUP BY\n",
    "\n",
    "Untuk mengelompokkan data di SQL kita menggunakan GROUP BY Statement. GROUP BY statement akan mengelompokkan data yang bernilai sama ke dalam satu group, dan dengan menggunakan fungsi aggregate seperti (COUNT, MAX, MIN, SUM, AVG) kita bisa melakukan agregasi untuk untuk setiap group atau kelompok yang terbentuk. Hal penting yang perlu diperhatikan adalah: \n",
    "- GROUP BY digunakan dengan SELECT, artinya kolom yang digunakan di GROUP BY statement, juga perlu ditempatkan di SELECT.\n",
    "- GROUP BY ditempatkan setelah WHERE, tetapi jika tidak menggunakan WHERE maka langsung ditempatkan setelah FROM. \n",
    "- Jika menggunakan ORDER BY, maka GROUP BY ditempatkan sebelum ORDER BY.  \n",
    "Group by bisa dilakukan dengan single column ataupun multiple column. Seperti ini contohnya:\n",
    "1. Grup by Single Column, data dikelompokkan menggunakan kriteria dari satu kolom saja, misalnya mengelompokkan data berdasarkan provinsi saja. \n",
    "2. Group by Multiple Column, data dikelompokkan menggunakan kriteria dari dua kolom atau lebih, misalnya mengelompokkan data berdasarkan province dan brand.\n",
    "Intinya ketika ingin menggunakan GROUP BY, tentukan terlebih dahulu ingin berdasarkan colom apa. Kalau ingin mengelompokkan lebih dari satu kolom maka akan dikelompokkan sesuai urutan.\n",
    "\n",
    "## Penggunaan CASE … WHEN….\n",
    "\n",
    "CASE-statement akan mengevaluasi kondisi yang sudah ditentukan, dimulai dari condition1, dan akan mengembalikan hasil (result1), jika condition1 terpenuhi (TRUE). Jika tidak, maka condition2 akan dievaluasi, dan akan mengembalikan result2 jika condition2 terpenuhi, dst. Apabila tidak ada kondisi yang terpenuhi, maka result pada bagian ELSE yang akan dikembalikan. \n",
    "\n"
   ]
  }
 ],
 "metadata": {
  "kernelspec": {
   "display_name": "Python 3 (ipykernel)",
   "language": "python",
   "name": "python3"
  },
  "language_info": {
   "codemirror_mode": {
    "name": "ipython",
    "version": 3
   },
   "file_extension": ".py",
   "mimetype": "text/x-python",
   "name": "python",
   "nbconvert_exporter": "python",
   "pygments_lexer": "ipython3",
   "version": "3.9.12"
  }
 },
 "nbformat": 4,
 "nbformat_minor": 5
}
