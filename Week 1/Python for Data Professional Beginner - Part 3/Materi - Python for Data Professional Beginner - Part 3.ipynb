{
 "cells": [
  {
   "cell_type": "markdown",
   "id": "099186ca",
   "metadata": {},
   "source": [
    "# Chapter 1: Pengantar Object Oriented Programming\n",
    "\n",
    "## Apa itu Object Oriented Programming?\n",
    "\n",
    "Pemrograman Berbasis Objek (Object Oriented Programming - OOP) merupakan salah satu paradigma pemrograman yang cukup populer di antara paradigma-paradigma lainnya. Pada paradigma OOP, struktur dari sebuah program dikemas ke dalam sebuah objek yang memiliki serangkaian properti (properties) dan fungsi (behaviours). \n",
    "\n",
    "## Konsep dalam Object Oriented Programming\n",
    "\n",
    "Konsep OO pada Python memiliki tujuan untuk menciptakan potongan-potongan kode yang bersifat reusable dan tidak redundan. Konsep ini dikenal dengan istilah konsep DRY - Don’t Repeat Yourself (berlawanan dengan konsep WET - Write Everything Twice). Dalam bahasa pemrograman Python, terdapat 3 konsep utama OO yaitu.\n",
    "1. Encapsulation: Menyembunyikan sebagian detail yang dimiliki oleh sebuah objek terhadap objek-objek lainnya.\n",
    "2. Inheritance: Menurunkan serangkaian fungsi-fungsi yang dimiliki oleh sebuah objek ke sebuah objek baru tanpa mengubah makna dari objek acuan yang digunakan.\n",
    "3. Polymorphism: Konsep untuk menggunakan fungsi-fungsi dengan nama/tujuan yang sama dengan cara yang berbeda.\n",
    "\n",
    "# Chapter 2: Class & Objects\n",
    "\n",
    "## Class dan Objek dalam Python - Part 2\n",
    "\n",
    "Dalam sebuah class, aku dapat mendefinisikan dua jenis atribut yaitu: \n",
    "1. Class Attribute adalah properti/atribut yang bernilai sama untuk oleh seluruh objek \n",
    "2. Instance Attribute adalah properti/atribut yang nilainya berbeda-beda untuk setiap objek dari sebuah class.\n",
    "\n",
    "## Class dan Objek dalam Python - Part 4\n",
    "\n",
    "Atribut nama, usia dan pendapatan yang diinisiasi ketika menginstance class merupakan contoh dari instance variabel. Sebagai tambahan, fungsi __init__() di dalam class Karyawan secara khusus disebut sebagai constructor. Melalui sebuah constructor, aku dapat meng-assign (menginisialisasi) atribut-atribut milik sebuah objek. Pada bahasa pemrograman Python, setiap fungsi (termasuk constructor) akan menerima dirinya sendiri (self) sebagai parameter pertama dari fungsi. Kemudian, aku dapat menambahkan parameter-parameter lain setelah parameter self sesuai dengan kebutuhan.\n",
    "\n",
    "# Chapter 3: Encapsulation & Inheritance\n",
    "\n",
    "## Encapsulation pada Python - Part 1\n",
    "\n",
    "Enkapsulasi (Encapsulation) adalah sebuah teknik dalam OOP yang mengizinkan aku untuk menyembunyikan detil dari sebuah atribut dalam sebuah class.\n",
    "\n",
    "## Encapsulation pada Python – Part 2\n",
    "\n",
    "Pada contoh di atas, terlihat bahwa atribut nama pada setiap objek dapat diakses secara bebas di luar scope dari sebuah class. Agar suatu properti ataupun fungsi dari sebuah class tidak dapat diakses secara bebas di luar scope milik suatu class, aku dapat mendefinisikan access modifier (level akses) saat sebuah atribut/fungsi didefinisikan. Terdapat 2 macam access modifier dalam Python, yakni.\n",
    "1. Public access: dapat aku definisikan dengan secara langsung menuliskan nama dari atribut/ fungsi. Dalam sebuah objek, atribut/fungsi yang bersifat public access dapat diakses di luar scope sebuah class\n",
    "2. Private access: dapat aku definisikan dengan menambahkan double underscore (__) sebelum menuliskan nama dari atribut/fungsi. Dalam sebuah objek, atribut/fungsi yang bersifat private access hanya dapat diakses di dalam scope sebuah class. \n",
    "\n",
    "## Inheritance pada Python – Part 1\n",
    "\n",
    "Inheritance adalah salah satu mekanisme di konsep OO yang mengizinkan aku untuk mendefinisikan sebuah class baru berdasarkan class yang sebelumnya telah dideklarasikan. Pada konsep inheritance, atribut/fungsi yang akan diwariskan hanyalah atribut/fungsi dengan access modifier public, atribut/fungsi dengan access modifier private tidak akan diturunkan. Menggunakan fungsi super.__init__(self) jangan lupa! Super tidak hanya bisa digunakan di constructor tapi juga bisa digunakan di method\n",
    "\n",
    "# Chapter 4: Polymorphism & Overloading\n",
    "\n",
    "## Polymorphism pada Python - Part 2\n",
    "\n",
    "Mudahnya Polymorphism adalah suatu object dapat memiliki berbagai bentuk, sebagai object dari class sendiri atau object dari superclassnya.\n",
    "\n",
    "## Overloading\n",
    "\n",
    "Metode overloading mengizinkan sebuah class untuk memiliki sekumpulan fungsi dengan nama yang sama dan parameter yang berbeda. Berkaitan dengan hal ini, Python tidak mengizinkan pendeklarasian fungsi (baik pada class ataupun tidak) dengan nama yang sama. Untuk mengimplementasikan method overloading pada Python, aku dapat menggunakan sebuah teknik yang dikenal dengan function default parameters. Mengset parameter ke default parameter di constructor class."
   ]
  }
 ],
 "metadata": {
  "kernelspec": {
   "display_name": "Python 3 (ipykernel)",
   "language": "python",
   "name": "python3"
  },
  "language_info": {
   "codemirror_mode": {
    "name": "ipython",
    "version": 3
   },
   "file_extension": ".py",
   "mimetype": "text/x-python",
   "name": "python",
   "nbconvert_exporter": "python",
   "pygments_lexer": "ipython3",
   "version": "3.9.12"
  }
 },
 "nbformat": 4,
 "nbformat_minor": 5
}
